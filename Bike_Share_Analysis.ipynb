{
 "cells": [
  {
   "cell_type": "markdown",
   "metadata": {},
   "source": [
    "# 2016 US Bike Share Activity Snapshot\n",
    "\n",
    "## Table of Contents\n",
    "- [Introduction](#intro)\n",
    "- [Posing Questions](#pose_questions)\n",
    "- [Data Collection and Wrangling](#wrangling)\n",
    "  - [Condensing the Trip Data](#condensing)\n",
    "- [Exploratory Data Analysis](#eda)\n",
    "  - [Statistics](#statistics)\n",
    "  - [Visualizations](#visualizations)\n",
    "- [Performing Your Own Analysis](#eda_continued)\n",
    "- [Conclusions](#conclusions)\n",
    "\n",
    "<a id='intro'></a>\n",
    "## Introduction\n",
    "\n",
    "Over the past decade, bicycle-sharing systems have been growing in number and popularity in cities across the world. Bicycle-sharing systems allow users to rent bicycles for short trips, typically 30 minutes or less. Thanks to the rise in information technologies, it is easy for a user of the system to access a dock within the system to unlock or return bicycles. These technologies also provide a wealth of data that can be used to explore how these bike-sharing systems are used.\n",
    "\n",
    "In this project, I performed an exploratory analysis on data provided by [Motivate](https://www.motivateco.com/), a bike-share system provider for many major cities in the United States. I compared the system usage between three large cities: New York City, Chicago, and Washington, DC. I also saw if there are any differences within each system for those users that are registered, regular users and those users that are short-term, casual users."
   ]
  },
  {
   "cell_type": "markdown",
   "metadata": {},
   "source": [
    "<a id='pose_questions'></a>\n",
    "## Posing Questions\n",
    "\n",
    "Before looking at the bike sharing data, I started by asking questions I wanted to understand about the bike share data. Consider, for example, if I were working for Motivate. What kinds of information would I want to know about in order to make smarter business decisions? If I were a user of the bike-share service, what factors might influence how I would want to use the service?"
   ]
  },
  {
   "cell_type": "markdown",
   "metadata": {},
   "source": [
    "**Q1:** What the peak days, weekdays or weekends, people use bikeshare system? What the trip duration average in terms of Subscribers or Customers? All of three cities follow the same pattern?\n",
    "\n",
    "**Q1:** Which season has the more trips duration in average? All of three cities follow the same pattern also?\n",
    "\n",
    "**Answering these questions let Motivate rethink in the number of bicycles during  days of the week or seasons, and give it a chance to put pricing policy to activate the both subscribers and customers markets.**\n"
   ]
  },
  {
   "cell_type": "markdown",
   "metadata": {},
   "source": [
    "<a id='wrangling'></a>\n",
    "## Data Collection and Wrangling\n",
    "\n",
    "It's time to collect and explore our data. In this project, I focused on the record of individual trips taken in 2016 from our selected cities: New York City, Chicago, and Washington, DC. Each of these cities has a page where I could freely download the trip data:\n",
    "\n",
    "- New York City (Citi Bike): [Link](https://www.citibikenyc.com/system-data)\n",
    "- Chicago (Divvy): [Link](https://www.divvybikes.com/system-data)\n",
    "- Washington, DC (Capital Bikeshare): [Link](https://www.capitalbikeshare.com/system-data)\n",
    "\n",
    "If you visit these pages, you will notice that each city has a different way of delivering its data. Chicago updates with new data twice a year, Washington DC is quarterly, and New York City is monthly. **However, you do not need to download the data yourself.** The data has already been collected for you in the `/data/` folder of the project files. While the original data for 2016 is spread among multiple files for each city, the files in the `/data/` folder collect all of the trip data for the year into one file per city. Some data wrangling of inconsistencies in timestamp format within each city has already been performed for you. In addition, a random 2% sample of the original data is taken to make the exploration more manageable. \n",
    "\n",
    "However, there is still a lot of data for us to investigate, so it's a good idea to start off by looking at one entry from each of the cities we're going to analyze. I ran the first code cell below to load some packages and functions that I'll be using in my analysis. Then, I completed the second code cell to print out the first trip recorded from each of the cities (the second line of each data file).\n"
   ]
  },
  {
   "cell_type": "code",
   "execution_count": 53,
   "metadata": {},
   "outputs": [],
   "source": [
    "## import all necessary packages and functions.\n",
    "import csv # read and write csv files\n",
    "from datetime import datetime # operations to parse dates\n",
    "from pprint import pprint # use to print data structures like dictionaries in\n",
    "                          # a nicer way than the base print function."
   ]
  },
  {
   "cell_type": "code",
   "execution_count": 54,
   "metadata": {},
   "outputs": [
    {
     "name": "stdout",
     "output_type": "stream",
     "text": [
      "\n",
      "City: NYC\n",
      "OrderedDict([('tripduration', '839'),\n",
      "             ('starttime', '1/1/2016 00:09:55'),\n",
      "             ('stoptime', '1/1/2016 00:23:54'),\n",
      "             ('start station id', '532'),\n",
      "             ('start station name', 'S 5 Pl & S 4 St'),\n",
      "             ('start station latitude', '40.710451'),\n",
      "             ('start station longitude', '-73.960876'),\n",
      "             ('end station id', '401'),\n",
      "             ('end station name', 'Allen St & Rivington St'),\n",
      "             ('end station latitude', '40.72019576'),\n",
      "             ('end station longitude', '-73.98997825'),\n",
      "             ('bikeid', '17109'),\n",
      "             ('usertype', 'Customer'),\n",
      "             ('birth year', ''),\n",
      "             ('gender', '0')])\n",
      "\n",
      "City: Chicago\n",
      "OrderedDict([('trip_id', '9080545'),\n",
      "             ('starttime', '3/31/2016 23:30'),\n",
      "             ('stoptime', '3/31/2016 23:46'),\n",
      "             ('bikeid', '2295'),\n",
      "             ('tripduration', '926'),\n",
      "             ('from_station_id', '156'),\n",
      "             ('from_station_name', 'Clark St & Wellington Ave'),\n",
      "             ('to_station_id', '166'),\n",
      "             ('to_station_name', 'Ashland Ave & Wrightwood Ave'),\n",
      "             ('usertype', 'Subscriber'),\n",
      "             ('gender', 'Male'),\n",
      "             ('birthyear', '1990')])\n",
      "\n",
      "City: Washington\n",
      "OrderedDict([('Duration (ms)', '427387'),\n",
      "             ('Start date', '3/31/2016 22:57'),\n",
      "             ('End date', '3/31/2016 23:04'),\n",
      "             ('Start station number', '31602'),\n",
      "             ('Start station', 'Park Rd & Holmead Pl NW'),\n",
      "             ('End station number', '31207'),\n",
      "             ('End station', 'Georgia Ave and Fairmont St NW'),\n",
      "             ('Bike number', 'W20842'),\n",
      "             ('Member Type', 'Registered')])\n"
     ]
    }
   ],
   "source": [
    "def print_first_point(filename):\n",
    "    \"\"\"\n",
    "    This function prints and returns the first data point (second row) from\n",
    "    a csv file that includes a header row.\n",
    "    \"\"\"\n",
    "    # print city name for reference\n",
    "    city = filename.split('-')[0].split('/')[-1]\n",
    "    print('\\nCity: {}'.format(city))\n",
    "    \n",
    "    with open(filename, 'r') as f_in:\n",
    "        ## TODO: Use the csv library to set up a DictReader object. ##\n",
    "        ## see https://docs.python.org/3/library/csv.html           ##\n",
    "        trip_reader = csv.DictReader(f_in)\n",
    "        \n",
    "        ## TODO: Use a function on the DictReader object to read the     ##\n",
    "        ## first trip from the data file and store it in a variable.     ##\n",
    "        ## see https://docs.python.org/3/library/csv.html#reader-objects ##\n",
    "        first_trip = next(trip_reader)\n",
    "                \n",
    "        ## TODO: Use the pprint library to print the first trip. ##\n",
    "        ## see https://docs.python.org/3/library/pprint.html     ##\n",
    "        pprint(first_trip)\n",
    "        \n",
    "    # output city name and first trip for later testing\n",
    "    return (city, first_trip)\n",
    "\n",
    "# list of files for each city\n",
    "data_files = ['./data/NYC-CitiBike-2016.csv',\n",
    "              './data/Chicago-Divvy-2016.csv',\n",
    "              './data/Washington-CapitalBikeshare-2016.csv',]\n",
    "\n",
    "# print the first trip from each file, store in dictionary\n",
    "example_trips = {}\n",
    "for data_file in data_files:\n",
    "    city, first_trip = print_first_point(data_file)\n",
    "    example_trips[city] = first_trip"
   ]
  },
  {
   "cell_type": "markdown",
   "metadata": {},
   "source": [
    "If everything has been filled out correctly, you should see below the printout of each city name (which has been parsed from the data file name) that the first trip has been parsed in the form of a dictionary. When you set up a `DictReader` object, the first row of the data file is normally interpreted as column names. Every other row in the data file will use those column names as keys, as a dictionary is generated for each row.\n",
    "\n",
    "This will be useful since we can refer to quantities by an easily-understandable label instead of just a numeric index. For example, if we have a trip stored in the variable `row`, then we would rather get the trip duration from `row['duration']` instead of `row[0]`.\n",
    "\n",
    "<a id='condensing'></a>\n",
    "### Condensing the Trip Data\n",
    "\n",
    "I noticed in the printout that each city provides different information. Even where the information is the same, the column names and formats are sometimes different. To make things as simple as possible when I get to the actual exploration, I should trim and clean the data. Cleaning the data makes sure that the data formats across the cities are consistent, while trimming focuses only on the parts of the data I'm most interested in to make the exploration easier to work with.\n",
    "\n",
    "You will generate new data files with five values of interest for each trip: trip duration, starting month, starting hour, day of the week, and user type. Each of these may require additional wrangling depending on the city:\n",
    "\n",
    "- **Duration**: This has been given to us in seconds (New York, Chicago) or milliseconds (Washington). A more natural unit of analysis will be if all the trip durations are given in terms of minutes.\n",
    "- **Month**, **Hour**, **Day of Week**: Ridership volume is likely to change based on the season, time of day, and whether it is a weekday or weekend. Use the start time of the trip to obtain these values. The New York City data includes the seconds in their timestamps, while Washington and Chicago do not. The [`datetime`](https://docs.python.org/3/library/datetime.html) package will be very useful here to make the needed conversions.\n",
    "- **User Type**: It is possible that users who are subscribed to a bike-share system will have different patterns of use compared to users who only have temporary passes. Washington divides its users into two types: 'Registered' for users with annual, monthly, and other longer-term subscriptions, and 'Casual', for users with 24-hour, 3-day, and other short-term passes. The New York and Chicago data uses 'Subscriber' and 'Customer' for these groups, respectively. For consistency, you will convert the Washington labels to match the other two.\n",
    "\n",
    "\n",
    "**Question 3a**: Complete the helper functions in the code cells below to address each of the cleaning tasks described above."
   ]
  },
  {
   "cell_type": "code",
   "execution_count": 55,
   "metadata": {},
   "outputs": [],
   "source": [
    "def duration_in_mins(datum, city):\n",
    "    \"\"\"\n",
    "    Takes as input a dictionary containing info about a single trip (datum) and\n",
    "    its origin city (city) and returns the trip duration in units of minutes.\n",
    "    \n",
    "    Remember that Washington is in terms of milliseconds while Chicago and NYC\n",
    "    are in terms of seconds. \n",
    "    \n",
    "    HINT: The csv module reads in all of the data as strings, including numeric\n",
    "    values. You will need a function to convert the strings into an appropriate\n",
    "    numeric type when making your transformations.\n",
    "    see https://docs.python.org/3/library/functions.html\n",
    "    \"\"\"\n",
    "    \n",
    "     \n",
    "    if city == \"Washington\":\n",
    "            return  int(datum[\"Duration (ms)\"]) / 60000 # 1 Minute = 60 SECOND * 1000 MS = 60000 ms\n",
    "    else:\n",
    "            return  int(datum[\"tripduration\"]) / 60     # 1 Minute = 60 SECOND\n",
    "    \n",
    "\n",
    "\n",
    "# Some tests to check that your code works. There should be no output if all of\n",
    "# the assertions pass. The `example_trips` dictionary was obtained from when\n",
    "# you printed the first trip from each of the original data files.\n",
    "tests = {'NYC': 13.9833,\n",
    "         'Chicago': 15.4333,\n",
    "         'Washington': 7.1231}\n",
    "\n",
    "for city in tests:\n",
    "    assert abs(duration_in_mins(example_trips[city], city) - tests[city]) < .001"
   ]
  },
  {
   "cell_type": "code",
   "execution_count": 56,
   "metadata": {},
   "outputs": [],
   "source": [
    "def time_of_trip(datum, city):\n",
    "    \"\"\"\n",
    "    Takes as input a dictionary containing info about a single trip (datum) and\n",
    "    its origin city (city) and returns the month, hour, and day of the week in\n",
    "    which the trip was made.\n",
    "    \n",
    "    Remember that NYC includes seconds, while Washington and Chicago do not.\n",
    "    \n",
    "    HINT: You should use the datetime module to parse the original date\n",
    "    strings into a format that is useful for extracting the desired information.\n",
    "    see https://docs.python.org/3/library/datetime.html#strftime-and-strptime-behavior\n",
    "    \"\"\"\n",
    "    \n",
    "    # YOUR CODE HERE\n",
    "    if city == \"NYC\":\n",
    "        dt = datetime.strptime(datum[\"starttime\"], '%m/%d/%Y %H:%M:%S') #includes ms at the end\n",
    "        month = dt.month\n",
    "        hour  = dt.hour\n",
    "        day_of_week = datetime.strftime(dt,\"%A\")                   \n",
    "    elif city == \"Chicago\":\n",
    "        dt = datetime.strptime(datum[\"starttime\"], '%m/%d/%Y %H:%M')\n",
    "        month = dt.month\n",
    "        hour  = dt.hour\n",
    "        day_of_week = datetime.strftime(dt,\"%A\")         \n",
    "    else:\n",
    "        dt = datetime.strptime(datum[\"Start date\"], '%m/%d/%Y %H:%M')\n",
    "        month = dt.month\n",
    "        hour  = dt.hour\n",
    "        day_of_week = datetime.strftime(dt,\"%A\")\n",
    "    return (month, hour, day_of_week)\n",
    "    \n",
    "# Some tests to check that your code works. There should be no output if all of\n",
    "# the assertions pass. The `example_trips` dictionary was obtained from when\n",
    "# you printed the first trip from each of the original data files.\n",
    "tests = {'NYC': (1, 0, 'Friday'),\n",
    "         'Chicago': (3, 23, 'Thursday'),\n",
    "         'Washington': (3, 22, 'Thursday')}\n",
    "\n",
    "for city in tests:\n",
    "    assert time_of_trip(example_trips[city], city) == tests[city]"
   ]
  },
  {
   "cell_type": "code",
   "execution_count": 57,
   "metadata": {},
   "outputs": [],
   "source": [
    "def type_of_user(datum, city):\n",
    "    \"\"\"\n",
    "    Takes as input a dictionary containing info about a single trip (datum) and\n",
    "    its origin city (city) and returns the type of system user that made the\n",
    "    trip.\n",
    "    \n",
    "    Remember that Washington has different category names compared to Chicago\n",
    "    and NYC. \n",
    "    \"\"\"\n",
    "    \n",
    "    # YOUR CODE HERE\n",
    "    if city == \"Washington\":\n",
    "        if datum[\"Member Type\"] == \"Registered\":\n",
    "            user_type = 'Subscriber'\n",
    "        else:\n",
    "            user_type = 'Customer'\n",
    "    else:\n",
    "        user_type = datum['usertype']\n",
    "        \n",
    "    return user_type\n",
    "\n",
    "# Some tests to check that your code works. There should be no output if all of\n",
    "# the assertions pass. The `example_trips` dictionary was obtained from when\n",
    "# you printed the first trip from each of the original data files.\n",
    "tests = {'NYC': 'Customer',\n",
    "         'Chicago': 'Subscriber',\n",
    "         'Washington': 'Subscriber'}\n",
    "\n",
    "for city in tests:\n",
    "    assert type_of_user(example_trips[city], city) == tests[city]"
   ]
  },
  {
   "cell_type": "markdown",
   "metadata": {},
   "source": [
    "**Question 3b**: Now, use the helper functions you wrote above to create a condensed data file for each city consisting only of the data fields indicated above. In the `/examples/` folder, you will see an example datafile from the [Bay Area Bike Share](http://www.bayareabikeshare.com/open-data) before and after conversion. Make sure that your output is formatted to be consistent with the example file."
   ]
  },
  {
   "cell_type": "code",
   "execution_count": 58,
   "metadata": {},
   "outputs": [],
   "source": [
    "def condense_data(in_file, out_file, city):\n",
    "    \"\"\"\n",
    "    This function takes full data from the specified input file\n",
    "    and writes the condensed data to a specified output file. The city\n",
    "    argument determines how the input file will be parsed.\n",
    "    \n",
    "    HINT: See the cell below to see how the arguments are structured!\n",
    "    \"\"\"\n",
    "    \n",
    "    with open(out_file, 'w') as f_out, open(in_file, 'r') as f_in:\n",
    "        # set up csv DictWriter object - writer requires column names for the\n",
    "        # first row as the \"fieldnames\" argument\n",
    "        \n",
    "        out_colnames = ['duration', 'month', 'hour', 'day_of_week', 'user_type']        \n",
    "        trip_writer = csv.DictWriter(f_out, fieldnames = out_colnames)\n",
    "        trip_writer.writeheader()\n",
    "        \n",
    "        ## TODO: set up csv DictReader object ##\n",
    "        trip_reader = csv.DictReader(f_in)\n",
    "        \n",
    "        # collect data from and process each row\n",
    "        for row in trip_reader:\n",
    "            # set up a dictionary to hold the values for the cleaned and trimmed\n",
    "            # data point\n",
    "            new_point = {}\n",
    "\n",
    "            ## TODO: use the helper functions to get the cleaned data from  ##\n",
    "            ## the original data dictionaries.                              ##\n",
    "            ## Note that the keys for the new_point dictionary should match ##\n",
    "            ## the column names set in the DictWriter object above.         ##\n",
    "            \n",
    "            new_point['duration'] = duration_in_mins(row, city)            \n",
    "            new_point['month'], new_point[\"hour\"], new_point[\"day_of_week\"] = time_of_trip(row, city)\n",
    "            new_point['user_type'] = type_of_user(row, city)\n",
    "            \n",
    "            ## TODO: write the processed information to the output file.     ##\n",
    "            ## see https://docs.python.org/3/library/csv.html#writer-objects ##   \n",
    "            \n",
    "            trip_writer.writerow(new_point)\n",
    "            "
   ]
  },
  {
   "cell_type": "code",
   "execution_count": 59,
   "metadata": {},
   "outputs": [
    {
     "name": "stdout",
     "output_type": "stream",
     "text": [
      "\n",
      "City: Washington\n",
      "OrderedDict([('duration', '7.123116666666666'),\n",
      "             ('month', '3'),\n",
      "             ('hour', '22'),\n",
      "             ('day_of_week', 'Thursday'),\n",
      "             ('user_type', 'Subscriber')])\n",
      "\n",
      "City: Chicago\n",
      "OrderedDict([('duration', '15.433333333333334'),\n",
      "             ('month', '3'),\n",
      "             ('hour', '23'),\n",
      "             ('day_of_week', 'Thursday'),\n",
      "             ('user_type', 'Subscriber')])\n",
      "\n",
      "City: NYC\n",
      "OrderedDict([('duration', '13.983333333333333'),\n",
      "             ('month', '1'),\n",
      "             ('hour', '0'),\n",
      "             ('day_of_week', 'Friday'),\n",
      "             ('user_type', 'Customer')])\n"
     ]
    }
   ],
   "source": [
    "# Run this cell to check your work\n",
    "city_info = {'Washington': {'in_file': './data/Washington-CapitalBikeshare-2016.csv',\n",
    "                            'out_file': './data/Washington-2016-Summary.csv'},\n",
    "             'Chicago': {'in_file': './data/Chicago-Divvy-2016.csv',\n",
    "                         'out_file': './data/Chicago-2016-Summary.csv'},\n",
    "             'NYC': {'in_file': './data/NYC-CitiBike-2016.csv',\n",
    "                     'out_file': './data/NYC-2016-Summary.csv'}}\n",
    "\n",
    "for city, filenames in city_info.items():\n",
    "    condense_data(filenames['in_file'], filenames['out_file'], city)\n",
    "    print_first_point(filenames['out_file'])"
   ]
  },
  {
   "cell_type": "markdown",
   "metadata": {},
   "source": [
    "<a id='eda'></a>\n",
    "## Exploratory Data Analysis\n",
    "\n",
    "Now that I have the data collected and wrangled, I'm ready to start exploring the data. In this section I wrote some code to compute descriptive statistics from the data. I also introduced to the  `matplotlib` library to create some basic histograms of the data.\n",
    "\n",
    "<a id='statistics'></a>\n",
    "### Statistics\n",
    "\n",
    "First, let's compute some basic counts. The first cell below contains a function that uses the csv module to iterate through a provided data file, returning the number of trips made by subscribers and customers. The second cell runs this function on the example Bay Area data in the `/examples/` folder. Modify the cells to answer the question below.\n",
    "\n",
    "**Question 4a**: Which city has the highest number of trips? Which city has the highest proportion of trips made by subscribers? Which city has the highest proportion of trips made by short-term customers?\n",
    "\n",
    "**4a answer**: \n",
    "\n",
    "1. New York City has the highest number of trips (276,798).\n",
    "\n",
    "2. New York City has the highest proportion of trips taken by subscribers (89%).\n",
    "\n",
    "3. Chicago has the highest proportion of trips taken by customers (24%)."
   ]
  },
  {
   "cell_type": "code",
   "execution_count": 60,
   "metadata": {},
   "outputs": [],
   "source": [
    "def number_of_trips(filename):\n",
    "    '''\n",
    "    This function reads in a file with trip data and reports the number of\n",
    "    trips made by subscribers, customers, and total overall.\n",
    "    '''\n",
    "    with open(filename, 'r') as f_in:\n",
    "        # set up csv reader object\n",
    "        reader = csv.DictReader(f_in)\n",
    "        \n",
    "        # initialize count variables\n",
    "        n_subscribers = 0\n",
    "        n_customers = 0\n",
    "        \n",
    "        # tally up ride types\n",
    "        for row in reader:\n",
    "            if row['user_type'] == 'Subscriber':\n",
    "                n_subscribers += 1\n",
    "            else:\n",
    "                n_customers += 1\n",
    "        \n",
    "        # compute total number of rides\n",
    "        n_total = n_subscribers + n_customers\n",
    "        \n",
    "        # return tallies as a tuple\n",
    "        return(n_subscribers, n_customers, n_total)"
   ]
  },
  {
   "cell_type": "code",
   "execution_count": 61,
   "metadata": {},
   "outputs": [],
   "source": [
    "## Modify this and the previous cell to answer Question 4a. Remember to run ##\n",
    "## the function on the cleaned data files you created from Question 3.      ##\n",
    "\n",
    "Washington_file = './data/Washington-2016-Summary.csv'\n",
    "Chicago_file = './data/Chicago-2016-Summary.csv'\n",
    "NYC_file = './data/NYC-2016-Summary.csv'\n",
    "\n",
    "Washington_result = number_of_trips(Washington_file)\n",
    "Chicago_result = number_of_trips(Chicago_file)\n",
    "NYC_result = number_of_trips(NYC_file)\n",
    "\n"
   ]
  },
  {
   "cell_type": "code",
   "execution_count": 62,
   "metadata": {},
   "outputs": [
    {
     "name": "stdout",
     "output_type": "stream",
     "text": [
      "NYC has the highest number of trips: 276798\n"
     ]
    }
   ],
   "source": [
    "#Which city has the highest number of trips?\n",
    "highest_total = max((Washington_result[2]), (Chicago_result[2]), (NYC_result[2]))\n",
    "#print(highest_total)\n",
    "\n",
    "if (Washington_result[2]) == highest_total:\n",
    "    print(\"Washington has the highest number of trips: \" + str(highest_total))\n",
    "elif (Chicago_result[2]) == highest_total:\n",
    "    print(\"Chicago has the highest number of trips: \" + str(highest_total))\n",
    "else:\n",
    "    print(\"NYC has the highest number of trips: \" + str(highest_total))\n",
    "    \n"
   ]
  },
  {
   "cell_type": "code",
   "execution_count": 63,
   "metadata": {},
   "outputs": [
    {
     "name": "stdout",
     "output_type": "stream",
     "text": [
      "NYC has the highest proportion of trips made by subscribers: 88.83590199351151 %\n"
     ]
    }
   ],
   "source": [
    "#Which city has the highest proportion of trips made by subscribers? \n",
    "Washington_sub_prop = ((Washington_result[0]) / (Washington_result[2])) * 100 \n",
    "Chicago_sub_prop = ((Chicago_result[0]) / (Chicago_result[2])) * 100\n",
    "NYC_sub_prop = ((NYC_result[0]) / (NYC_result[2])) * 100\n",
    "highest_sub_prop = max(Washington_sub_prop, Chicago_sub_prop, NYC_sub_prop)\n",
    "if Washington_sub_prop  == highest_sub_prop:\n",
    "    print(\"Washington has the highest proportion of trips made by subscribers: \" + str(highest_sub_prop)+ \" %\")\n",
    "elif Chicago_sub_prop == highest_sub_prop:\n",
    "    print(\"Chicago has the highest proportion of trips made by subscribers: \" + str(highest_sub_prop)+ \" %\")\n",
    "else:\n",
    "    print(\"NYC has the highest proportion of trips made by subscribers: \" + str(highest_sub_prop) + \" %\")\n"
   ]
  },
  {
   "cell_type": "code",
   "execution_count": 64,
   "metadata": {},
   "outputs": [
    {
     "name": "stdout",
     "output_type": "stream",
     "text": [
      "Chicago has the highest proportion of trips made by short_term customers: 23.774798630269924 %\n"
     ]
    }
   ],
   "source": [
    "#Which city has the highest proportion of trips made by short_term customers?\n",
    "Washington_cust_prop = ((Washington_result[1]) / (Washington_result[2])) *100\n",
    "Chicago_cust_prop = ((Chicago_result[1]) / (Chicago_result[2])) * 100\n",
    "NYC_cust_prop = ((NYC_result[1]) / (NYC_result[2])) * 100\n",
    "highest_cust_prop = max(Washington_cust_prop, Chicago_cust_prop, NYC_cust_prop)\n",
    "if Washington_cust_prop  == highest_cust_prop:\n",
    "    print(\"Washington has the highest proportion of trips made by short_term customers: \" + str(highest_cust_prop)  + \" %\")\n",
    "elif Chicago_cust_prop == highest_cust_prop:\n",
    "    print(\"Chicago has the highest proportion of trips made by short_term customers: \" + str(highest_cust_prop) + \" %\")\n",
    "else:\n",
    "    print(\"NYC has the highest proportion of trips made by short_term customers: \" + str(highest_cust_prop) + \" %\")\n"
   ]
  },
  {
   "cell_type": "markdown",
   "metadata": {},
   "source": [
    "Now, you will write your own code to continue investigating properties of the data.\n",
    "\n",
    "**Question 4b**: Bike-share systems are designed for riders to take short trips. Most of the time, users are allowed to take trips of 30 minutes or less with no additional charges, with overage charges made for trips of longer than that duration. What is the average trip length for each city? What proportion of rides made in each city are longer than 30 minutes?\n",
    "\n",
    "**4b answer**: \n",
    "\n",
    "1. **The average trip lengths** are 16.6, 15.8 and 18.9 minutes for Chicago, NYC and Washington respectively.\n",
    "\n",
    "2. **The proportion of rides that are longer than 30 minutes** are 8, 7 and 11 percent for Chicago, NYC and Washington, respectively."
   ]
  },
  {
   "cell_type": "code",
   "execution_count": 65,
   "metadata": {
    "scrolled": true
   },
   "outputs": [
    {
     "name": "stdout",
     "output_type": "stream",
     "text": [
      "Chicago:\n",
      " Average trip length = 16.563629368787335 min\n",
      " Proportion of rides longer than 30 mins = 8.332062497400562 %\n",
      "NYC:\n",
      " Average trip length = 15.81259299802294 min\n",
      " Proportion of rides longer than 30 mins = 7.3024371563378345 %\n",
      "Washington:\n",
      " Average trip length = 18.93287355913721 min\n",
      " Proportion of rides longer than 30 mins = 10.83888671109369 %\n"
     ]
    }
   ],
   "source": [
    "## Use this and additional cells to answer Question 4b.                 ##\n",
    "##                                                                      ##\n",
    "## HINT: The csv module reads in all of the data as strings, including  ##\n",
    "## numeric values. You will need a function to convert the strings      ##\n",
    "## into an appropriate numeric type before you aggregate data.          ##\n",
    "## TIP: For the Bay Area example, the average trip length is 14 minutes ##\n",
    "## and 3.5% of trips are longer than 30 minutes.                        ##\n",
    "\n",
    "def total_duration(filename):\n",
    "    ''' \n",
    "    calculate the average trip lengths and the proportion of rides \n",
    "    that are longer than 30 minutes\n",
    "    '''\n",
    "    with open(filename, 'r') as dur_f:\n",
    "        reader = csv.DictReader(dur_f)\n",
    "        trips_count = 0      #Number of total number of trips\n",
    "        total_dur = 0        #Total time (duration) of all the trips (upto 30 minutes or less)\n",
    "        longer_trip = 0      #Total number trips longer than 30 mins\n",
    "        \n",
    "        for trip in reader:\n",
    "            trips_count += 1\n",
    "            total_dur += float(trip['duration'])\n",
    "            if float(trip['duration']) > 30:\n",
    "                longer_trip += 1\n",
    "            \n",
    "    avg_trip_length = total_dur / trips_count\n",
    "    proportion_longer_30 = (longer_trip / trips_count) * 100\n",
    "           \n",
    "    return (avg_trip_length, proportion_longer_30)\n",
    "\n",
    "data_files = ['./data/Chicago-2016-Summary.csv',\n",
    "              './data/NYC-2016-Summary.csv',\n",
    "              './data/Washington-2016-Summary.csv']\n",
    "for data_file in data_files:\n",
    "    td = total_duration(data_file)\n",
    "    city = data_file.split('-')[0].split('/')[-1]\n",
    "    print(city+':')\n",
    "    print(' Average trip length = '.format(city) + str(td[0]) + ' min')\n",
    "    print(' Proportion of rides longer than 30 mins = '.format(city) + str(td[1]) + ' %')"
   ]
  },
  {
   "cell_type": "markdown",
   "metadata": {},
   "source": [
    "**Question 4c**: Dig deeper into the question of trip duration based on ridership. Choose one city. Within that city, which type of user takes longer rides on average: Subscribers or Customers?\n",
    "\n",
    "**4c answer**: \n",
    "\n",
    "**NYC** Subscribers rides are longer on average than Customers rides : 12.2 min"
   ]
  },
  {
   "cell_type": "code",
   "execution_count": 66,
   "metadata": {},
   "outputs": [
    {
     "name": "stdout",
     "output_type": "stream",
     "text": [
      "\n",
      "City: NYC\n",
      "Subscribers longer rides on average than Customers: 12.15345366175579 min\n"
     ]
    }
   ],
   "source": [
    "## Use this and additional cells to answer Question 4c. If you have    ##\n",
    "## not done so yet, consider revising some of your previous code to    ##\n",
    "## make use of functions for reusability.                              ##\n",
    "##                                                                     ##\n",
    "## TIP: For the Bay Area example data, you should find the average     ##\n",
    "## Subscriber trip duration to be 9.5 minutes and the average Customer ##\n",
    "## trip duration to be 54.6 minutes. Do the other cities have this     ##\n",
    "## level of difference?                                                ##\n",
    "\n",
    "def Longer_rides_avg(filename):\n",
    "    '''\n",
    "    to find which type of user (Subscribers or Customers) takes longer rides on average.\n",
    "    '''\n",
    "    city = filename.split('-')[0].split('/')[-1]\n",
    "    print('\\nCity: {}'.format(city))\n",
    "    with open(filename, 'r') as rides_f:\n",
    "        rider_duration = csv.DictReader(rides_f)\n",
    "        \n",
    "        trips_count = 0                #Number of total number of trips\n",
    "        subscriber_total_dur = 0       #Total time (duration) of trips by subscribers\n",
    "        customer_total_dur = 0         #Total time (duration) of trips by customers\n",
    "        \n",
    "        for trip in rider_duration:\n",
    "            trips_count += 1\n",
    "            if (trip['user_type']) == 'Subscriber':\n",
    "                subscriber_total_dur += float(trip['duration'])\n",
    "            else:\n",
    "                customer_total_dur += float(trip['duration'])\n",
    "        \n",
    "        avg_subscriber_dur = subscriber_total_dur / trips_count\n",
    "        avg_customer_dur = customer_total_dur / trips_count\n",
    "        \n",
    "        if avg_subscriber_dur > avg_customer_dur:\n",
    "            print('Subscribers longer rides on average than Customers: ' + str(avg_subscriber_dur) + ' min')\n",
    "        elif avg_subscriber_dur < avg_customer_dur:\n",
    "            print('Customers longer rides on average than Subscribers: ' + str(avg_customer_dur) + ' min')\n",
    "        else:\n",
    "            print('Customers rides on average equal Subscribers average: ' + str(avg_customer_dur) + ' min')\n",
    "    \n",
    "        return\n",
    "\n",
    "data_file = './data/NYC-2016-Summary.csv'\n",
    "Longer_rides_avg (data_file)\n"
   ]
  },
  {
   "cell_type": "markdown",
   "metadata": {},
   "source": [
    "<a id='visualizations'></a>\n",
    "### Visualizations\n",
    "\n",
    "The last set of values that you computed should have pulled up an interesting result. While the mean trip time for Subscribers is well under 30 minutes, the mean trip time for Customers is actually _above_ 30 minutes! It will be interesting for us to look at how the trip times are distributed. In order to do this, a new library will be introduced here, `matplotlib`. I loaded the library and to generate an example plot."
   ]
  },
  {
   "cell_type": "code",
   "execution_count": 67,
   "metadata": {},
   "outputs": [
    {
     "data": {
      "image/png": "[encoded data removed]",
      "text/plain": [
       "<matplotlib.figure.Figure at 0x7f69beacb4e0>"
      ]
     },
     "metadata": {
      "needs_background": "light"
     },
     "output_type": "display_data"
    }
   ],
   "source": [
    "# load library\n",
    "import matplotlib.pyplot as plt\n",
    "import numpy as np\n",
    "\n",
    "# this is a 'magic word' that allows for plots to be displayed\n",
    "# inline with the notebook. If you want to know more, see:\n",
    "# http://ipython.readthedocs.io/en/stable/interactive/magics.html\n",
    "%matplotlib inline \n",
    "\n",
    "# example histogram, data taken from bay area sample\n",
    "data = [ 7.65,  8.92,  7.42,  5.50, 16.17,  4.20,  8.98,  9.62, 11.48, 14.33,\n",
    "        19.02, 21.53,  3.90,  7.97,  2.62,  2.67,  3.08, 14.40, 12.90,  7.83,\n",
    "        25.12,  8.30,  4.93, 12.43, 10.60,  6.17, 10.88,  4.78, 15.15,  3.53,\n",
    "         9.43, 13.32, 11.72,  9.85,  5.22, 15.10,  3.95,  3.17,  8.78,  1.88,\n",
    "         4.55, 12.68, 12.38,  9.78,  7.63,  6.45, 17.38, 11.90, 11.52,  8.63,]\n",
    "plt.hist(data, bins=10)\n",
    "plt.title('Distribution of Trip Durations')\n",
    "plt.xlabel('Duration (m)')\n",
    "plt.show()"
   ]
  },
  {
   "cell_type": "markdown",
   "metadata": {},
   "source": [
    "I collected fifty trip times in a list, and passed this list as the first argument to the `.hist()` function. This function performs the computations and creates plotting objects for generating a histogram, but the plot is actually not rendered until the `.show()` function is executed. The `.title()` and `.xlabel()` functions provide some labeling for plot context.\n",
    "\n",
    "I used these functions to create a histogram of the trip times for the city you selected in question 4c. Didn't separate the Subscribers and Customers for now: just collected all of the trip times and plot them.\n"
   ]
  },
  {
   "cell_type": "code",
   "execution_count": 68,
   "metadata": {},
   "outputs": [
    {
     "data": {
      "image/png": "[encoded data removed]",
      "text/plain": [
       "<matplotlib.figure.Figure at 0x7f69beb47d30>"
      ]
     },
     "metadata": {
      "needs_background": "light"
     },
     "output_type": "display_data"
    },
    {
     "data": {
      "image/png": "[encoded data removed]",
      "text/plain": [
       "<matplotlib.figure.Figure at 0x7f69bed58710>"
      ]
     },
     "metadata": {
      "needs_background": "light"
     },
     "output_type": "display_data"
    },
    {
     "data": {
      "image/png": "[encoded data removed]",
      "text/plain": [
       "<matplotlib.figure.Figure at 0x7f69beedbc88>"
      ]
     },
     "metadata": {
      "needs_background": "light"
     },
     "output_type": "display_data"
    }
   ],
   "source": [
    "## Use this and additional cells to collect all of the trip times as a list ##\n",
    "## and then use pyplot functions to generate a histogram of trip times.     ##\n",
    "def get_trip_times(filename):\n",
    "    '''\n",
    "    Returns all of the trip times as a list to use pyplot functions to generate \n",
    "    a histogram of trip times.\n",
    "    '''\n",
    "    trip_times = []\n",
    "    with open(filename) as f_in:\n",
    "        reader = csv.DictReader(f_in)\n",
    "        for row in reader:\n",
    "            trip_times.append(float(row['duration']))\n",
    "    return trip_times\n",
    "\n",
    "data_files = ['./data/Chicago-2016-Summary.csv',\n",
    "              './data/NYC-2016-Summary.csv',\n",
    "              './data/Washington-2016-Summary.csv',]\n",
    "colors = ['red', 'blue', 'green']\n",
    "color_index = 0\n",
    "for data_file in data_files:\n",
    "    plt.gcf().clear()\n",
    "    trip_times = get_trip_times(data_file)\n",
    "    plt.hist(trip_times, bins = range(0, 90), color = colors[color_index])\n",
    "    color_index += 1\n",
    "    city = data_file.split('-')[0].split('/')[-1]\n",
    "    plt.title('Distribution of Trip Durations\\n{}'.format(city))\n",
    "    plt.xlabel('Duration (m)')\n",
    "    plt.show()"
   ]
  },
  {
   "cell_type": "markdown",
   "metadata": {},
   "source": [
    "If you followed the use of the `.hist()` and `.show()` functions exactly like in the example, you're probably looking at a plot that's completely unexpected. The plot consists of one extremely tall bar on the left, maybe a very short second bar, and a whole lot of empty space in the center and right. Take a look at the duration values on the x-axis. This suggests that there are some highly infrequent outliers in the data. Instead of reprocessing the data, you will use additional parameters with the `.hist()` function to limit the range of data that is plotted. Documentation for the function can be found [[here]](https://matplotlib.org/devdocs/api/_as_gen/matplotlib.pyplot.hist.html#matplotlib.pyplot.hist).\n",
    "\n",
    "**Question 5**: Use the parameters of the `.hist()` function to plot the distribution of trip times for the Subscribers in your selected city. Do the same thing for only the Customers. Add limits to the plots so that only trips of duration less than 75 minutes are plotted. As a bonus, set the plots up so that bars are in five-minute wide intervals. For each group, where is the peak of each distribution? How would you describe the shape of each distribution?\n",
    "\n",
    "**Q5 answer**: \n",
    "\n",
    "**1- For subscribers,** the peak of the distribution is in the **5 to 10 minute \"bucket\".** For **customers,** the peak of the distribution is in the **20 to 25 minute \"bucket\"** for **NYC only.** For each user type, the distribution is **unimodal**, with a **positive (right) skew**.\n",
    "\n",
    "**2-** The shape of the histogram for subscribers is unimodal with a skew to the right. For customers, the mode is further to the right than for subscribers, but the shape still remains positively skewed. The tail is much fatter for customers than for subscribers, as well."
   ]
  },
  {
   "cell_type": "code",
   "execution_count": 69,
   "metadata": {},
   "outputs": [
    {
     "data": {
      "image/png": "[encoded data removed]",
      "text/plain": [
       "<matplotlib.figure.Figure at 0x7f69be324400>"
      ]
     },
     "metadata": {
      "needs_background": "light"
     },
     "output_type": "display_data"
    },
    {
     "data": {
      "image/png": "[encoded data removed]",
      "text/plain": [
       "<matplotlib.figure.Figure at 0x7f69be3678d0>"
      ]
     },
     "metadata": {
      "needs_background": "light"
     },
     "output_type": "display_data"
    }
   ],
   "source": [
    "## Use this and additional cells to answer Question 5. ##\n",
    "filename = './data/NYC-2016-Summary.csv'\n",
    "def city_trip_times(filename):\n",
    "    '''\n",
    "    Returns the distribution of trip times for the Subscribers and Customers in NYC, using \n",
    "    the duration that less than 75 minutes, to use the parameters of the .hist() function \n",
    "    to plot it.\n",
    "    '''\n",
    "    sub_trip_times = []\n",
    "    cust_trip_times = []\n",
    "    with open(filename) as nyc_f:\n",
    "        reader = csv.DictReader(nyc_f)\n",
    "        for row in reader:\n",
    "            if (row['user_type']) == 'Subscriber' and (float(row['duration'])) < 75:\n",
    "                sub_trip_times.append(float(row['duration']))\n",
    "            elif (row['user_type']) == 'Customer' and (float(row['duration'])) < 75:\n",
    "                cust_trip_times.append(float(row['duration']))\n",
    "    \n",
    "    return (sub_trip_times, cust_trip_times)\n",
    "\n",
    "plt.gcf().clear()\n",
    "sub_trip_times,cust_trip_times = city_trip_times(filename) \n",
    "plt.hist(sub_trip_times, bins = range(0, 75, 5), color = 'green')\n",
    "#city = data_file.split('-')[0].split('/')[-1]\n",
    "plt.title('Distribution of Subscribers Trip Durations\\n NYC')\n",
    "plt.xlabel('Duration (m)')\n",
    "plt.show()\n",
    "\n",
    "plt.gcf().clear() \n",
    "plt.hist(cust_trip_times, bins = range(0, 75, 5), color = 'red')\n",
    "#city = data_file.split('-')[0].split('/')[-1]\n",
    "plt.title('Distribution of Customers Trip Durations\\n NYC')\n",
    "plt.xlabel('Duration (m)')\n",
    "plt.show()"
   ]
  },
  {
   "cell_type": "markdown",
   "metadata": {
    "collapsed": true
   },
   "source": [
    "<a id='eda_continued'></a>\n",
    "## Performing Your Own Analysis\n",
    "\n",
    "So far, I've performed an initial exploration into the data available. I have compared the relative volume of trips made between three U.S. cities and the ratio of trips made by Subscribers and Customers. For one of these cities, I have investigated differences between Subscribers and Customers in terms of how long a typical trip lasts. I continued the exploration in a direction that I selected. Here are a few suggestions for questions to explore:\n",
    "\n",
    "- How does ridership differ by month or season? Which month / season has the highest ridership? Does the ratio of Subscriber trips to Customer trips change depending on the month or season?\n",
    "- Is the pattern of ridership different on the weekends versus weekdays? On what days are Subscribers most likely to use the system? What about Customers? Does the average duration of rides change depending on the day of the week?\n",
    "- During what time of day is the system used the most? Is there a difference in usage patterns for Subscribers and Customers?\n",
    "\n",
    "These questions which I posed in my answer to question 1 align with the bullet points above, this is a good opportunity to investigate one of them. As part of my investigation, for that,  I needed to create something other than a histogram, so I consulted the [Pyplot documentation](https://matplotlib.org/devdocs/api/pyplot_summary). In particular, because I wanted to plot values across a categorical variable (e.g. city, user type), so a bar chart was useful. [documentation page for `.bar()`](https://matplotlib.org/devdocs/api/_as_gen/matplotlib.pyplot.bar.html#matplotlib.pyplot.bar) includes links at the bottom of the page with examples for you to build off of for your own use.\n",
    "\n",
    "**Question 6**: Continue the investigation by exploring another question that could be answered by the data available. Document the question you want to explore below. Your investigation should involve at least two variables and should compare at least two groups. You should also use at least one visualization as part of your explorations.\n",
    "\n",
    "**Question 6a**:\n",
    "\n",
    "How does ridership differ by **season**? Which season has the highest ridership? Does the ratio of Subscriber trips to Customer trips change depending on the season?\n",
    "\n",
    "**6a: answer:**\n",
    "\n",
    "1- The bars below aggregate number of trips for each city based on whether the rides occur in four seasons. The bars are qualitatively very similar in each city for the same season of trips, with summer season the most common types of trips, for the three cities.\n",
    "\n",
    "2- It is reasonable to expect that the number of trips in summer is more trips than others for both user types and the three cities, and we find the winter in the all cities is less than other becaus the snow and the heavy rains are preventing the user ride the bikes.\n",
    "\n",
    "3- the bars show the ratio of Subscriber trips to Customer trips is approximatly constant in for seasons in the three cities, with small diference in NYC, that is reasonable to expect as explained above."
   ]
  },
  {
   "cell_type": "code",
   "execution_count": 70,
   "metadata": {},
   "outputs": [],
   "source": [
    "def season_ridership_by_user_type(filename):\n",
    "    '''\n",
    "    to calculate ridership difference by season (winter = Jan, Feb, Mar - Spring = Apr, May, Jun - \n",
    "    Summer = Jul, Aug, Sept - Autumn = Oct, Nov, Dec) and to know which season has the highest ridership. \n",
    "    How Does the ratio of Subscriber trips to Customer trips change depending on the season?\n",
    "    '''\n",
    "    with open(filename, 'r') as ridership_f:\n",
    "        ridership = csv.DictReader(ridership_f)\n",
    "        sub_win_count = 0\n",
    "        sub_spr_count = 0\n",
    "        sub_summ_count = 0\n",
    "        sub_aut_count = 0\n",
    "        cust_win_count = 0\n",
    "        cust_spr_count = 0\n",
    "        cust_summ_count = 0\n",
    "        cust_aut_count = 0\n",
    "        \n",
    "        for trip in ridership:\n",
    "            if (trip['user_type']) == 'Subscriber' and (int(trip['month']) == 1 or int(trip['month']) == 2 or int(trip['month']) == 3):\n",
    "                sub_win_count  += 1 \n",
    "            elif (trip['user_type']) == 'Subscriber' and (int(trip['month']) == 4 or int(trip['month']) == 5 or int(trip['month']) == 6):\n",
    "                sub_spr_count  += 1\n",
    "            elif (trip['user_type']) == 'Subscriber' and (int(trip['month']) == 7 or int(trip['month']) == 8 or int(trip['month']) == 9):\n",
    "                sub_summ_count  += 1\n",
    "            elif (trip['user_type']) == 'Subscriber' and (int(trip['month']) == 10 or int(trip['month']) == 11 or int(trip['month']) == 12):\n",
    "                sub_aut_count  += 1\n",
    "            elif (trip['user_type']) == 'Customer' and (int(trip['month']) == 1 or int(trip['month']) == 2 or int(trip['month']) == 3):\n",
    "                cust_win_count  += 1\n",
    "            elif (trip['user_type']) == 'Customer' and (int(trip['month']) == 4 or int(trip['month']) == 5 or int(trip['month']) == 6):\n",
    "                cust_spr_count  += 1\n",
    "            elif (trip['user_type']) == 'Customer' and (int(trip['month']) == 7 or int(trip['month']) == 8 or int(trip['month']) == 9):\n",
    "                cust_summ_count  += 1\n",
    "            elif (trip['user_type']) == 'Customer' and (int(trip['month']) == 10 or int(trip['month']) == 11 or int(trip['month']) == 12):\n",
    "                cust_aut_count  += 1\n",
    "    \n",
    "        return ([sub_win_count, sub_spr_count, sub_summ_count, sub_aut_count] , [cust_win_count, cust_spr_count, cust_summ_count, cust_aut_count])\n",
    "\n",
    "\n"
   ]
  },
  {
   "cell_type": "code",
   "execution_count": 71,
   "metadata": {},
   "outputs": [],
   "source": [
    "def plot_season_ridership(subscriber, customer, city):\n",
    "    '''\n",
    "    Plotting bar chart of 'season_ridership_by_user_type' function using two \n",
    "    categorical variables ('User Type' and 'Seasons')\n",
    "    '''\n",
    "    seasons = ['Winter', 'Spring', 'Summer', 'Autumn']\n",
    "    ypos = np.arange(len(seasons))\n",
    "    plt.gcf().clear()\n",
    "    plt.xticks(ypos, seasons)\n",
    "    plt.ylabel('Number of trips')\n",
    "    plt.title('Season Ridership\\n{}'.format(city))\n",
    "    plt.bar(ypos-0.2, subscriber, width = 0.4, label = 'Subscriber', color = '#000099')\n",
    "    plt.bar(ypos+0.2, customer, width = 0.4, label = 'Customer', color = 'red')\n",
    "    plt.legend()\n",
    "    plt.show()\n",
    "    return\n",
    "\n"
   ]
  },
  {
   "cell_type": "code",
   "execution_count": 72,
   "metadata": {},
   "outputs": [
    {
     "data": {
      "image/png": "[encoded data removed]",
      "text/plain": [
       "<matplotlib.figure.Figure at 0x7f69be481208>"
      ]
     },
     "metadata": {
      "needs_background": "light"
     },
     "output_type": "display_data"
    },
    {
     "data": {
      "image/png": "[encoded data removed]",
      "text/plain": [
       "<matplotlib.figure.Figure at 0x7f69be17bc50>"
      ]
     },
     "metadata": {
      "needs_background": "light"
     },
     "output_type": "display_data"
    },
    {
     "data": {
      "image/png": "[encoded data removed]",
      "text/plain": [
       "<matplotlib.figure.Figure at 0x7f69be59f6a0>"
      ]
     },
     "metadata": {
      "needs_background": "light"
     },
     "output_type": "display_data"
    }
   ],
   "source": [
    "data_files = ['./data/Chicago-2016-Summary.csv',\n",
    "              './data/NYC-2016-Summary.csv',\n",
    "              './data/Washington-2016-Summary.csv',]\n",
    "for data_file in data_files:\n",
    "    city = data_file.split('-')[0].split('/')[-1]\n",
    "    data = season_ridership_by_user_type(data_file)\n",
    "    subscriber = data[0]\n",
    "    customer = data[1]\n",
    "    plot_season_ridership(subscriber, customer,city)"
   ]
  },
  {
   "cell_type": "markdown",
   "metadata": {},
   "source": [
    "**Reference for bar plot**: https://www.youtube.com/watch?v=iedmZlFxjfA, visited on 26-10-2018\n",
    "**Reference for bar color**: https://www.color-hex.com/color/0000ff visited on 26-10-2018"
   ]
  },
  {
   "cell_type": "markdown",
   "metadata": {},
   "source": [
    "**Question 6b :**\n",
    "\n",
    "Is the pattern of ridership different on **the weekends** versus **weekdays**? On what days are Subscribers most likely to use the system? What about Customers? Does the average duration of rides change depending on the day of the week?\n",
    "\n",
    "**6b answer :**\n",
    "\n",
    "1- The bars below show the number of trips on weekdays in the three cities. For the  subscribers, note that all days of the week is more than others days (Saturday and Sunday) in three cities, that indicating most of them work (employee) in fixed places and times.\n",
    "\n",
    "2- It is reasonable to expect that the number of trips by Customers in the weekends is more than others days in three cities, that indicating most of them are tourists. \n",
    "\n",
    "3- The bars of trips duration in the three cities is opposite of numbor of trips, it is longer in all the days of week. The duration bigger than 30 minutes in NYC and Washington because the limit of normal trip is 45 mins in Washington and 3 hours in NYC, that explains the graph.\n"
   ]
  },
  {
   "cell_type": "code",
   "execution_count": 73,
   "metadata": {},
   "outputs": [],
   "source": [
    "def days_ridership_dur_by_user_type(filename):\n",
    "    \"\"\"\n",
    "    to calculate ridership difference on the weekends versus weekdays \n",
    "    and to know On what days are Subscribers versus Customers most likely to use the system? \n",
    "    Does the average duration of rides change depending on the day of the week?\n",
    "    \"\"\"\n",
    "    with open(filename, 'r') as days_f:\n",
    "        days = csv.DictReader(days_f)\n",
    "        subscriber_rides = {'Sat' : 0, 'Sun' : 0, 'Mon' : 0, 'Tue' : 0, 'Wed' : 0, 'Thu' : 0, 'Fri' : 0}\n",
    "        customer_rides = {'Sat' : 0, 'Sun' : 0, 'Mon' : 0, 'Tue' : 0, 'Wed' : 0, 'Thu' : 0, 'Fri' : 0}\n",
    "        subscriber_durations = {'Sat' : 0, 'Sun' : 0, 'Mon' : 0, 'Tue' : 0, 'Wed' : 0, 'Thu' : 0, 'Fri' : 0}\n",
    "        customer_durations = {'Sat' : 0, 'Sun' : 0, 'Mon' : 0, 'Tue' : 0, 'Wed' : 0, 'Thu' : 0, 'Fri' : 0}\n",
    "\n",
    "        for trip in days:\n",
    "            if trip['day_of_week'] == 'Saturday':\n",
    "                if trip['user_type'] == 'Subscriber':\n",
    "                    subscriber_rides['Sat'] += 1\n",
    "                    subscriber_durations['Sat'] += float(trip['duration'])\n",
    "                else: \n",
    "                    customer_rides['Sat'] += 1\n",
    "                    customer_durations['Sat'] += float(trip['duration'])\n",
    "            if trip['day_of_week'] == 'Sunday':\n",
    "                if trip['user_type'] == 'Subscriber':\n",
    "                    subscriber_rides['Sun'] += 1\n",
    "                    subscriber_durations['Sun'] += float(trip['duration'])\n",
    "                else: \n",
    "                    customer_rides['Sun'] += 1\n",
    "                    customer_durations['Sun'] += float(trip['duration'])\n",
    "            if trip['day_of_week'] == 'Monday':\n",
    "                if trip['user_type'] == 'Subscriber':\n",
    "                    subscriber_rides['Mon'] += 1\n",
    "                    subscriber_durations['Mon'] += float(trip['duration'])\n",
    "                else: \n",
    "                    customer_rides['Mon'] += 1\n",
    "                    customer_durations['Mon'] += float(trip['duration'])\n",
    "            if trip['day_of_week'] == 'Tuesday':\n",
    "                if trip['user_type'] == 'Subscriber':\n",
    "                    subscriber_rides['Tue'] += 1\n",
    "                    subscriber_durations['Tue'] += float(trip['duration'])\n",
    "                else: \n",
    "                    customer_rides['Tue'] += 1\n",
    "                    customer_durations['Tue'] += float(trip['duration'])\n",
    "            if trip['day_of_week'] == 'Wednesday':\n",
    "                if trip['user_type'] == 'Subscriber':\n",
    "                    subscriber_rides['Wed'] += 1\n",
    "                    subscriber_durations['Wed'] += float(trip['duration'])\n",
    "                else: \n",
    "                    customer_rides['Wed'] += 1\n",
    "                    customer_durations['Wed'] += float(trip['duration'])\n",
    "            if trip['day_of_week'] == 'Thursday':\n",
    "                if trip['user_type'] == 'Subscriber':\n",
    "                    subscriber_rides['Thu'] += 1\n",
    "                    subscriber_durations['Thu'] += float(trip['duration'])\n",
    "                else: \n",
    "                    customer_rides['Thu'] += 1\n",
    "                    customer_durations['Thu'] += float(trip['duration'])\n",
    "            if trip['day_of_week'] == 'Friday':\n",
    "                if trip['user_type'] == 'Subscriber':\n",
    "                    subscriber_rides['Fri'] += 1\n",
    "                    subscriber_durations['Fri'] += float(trip['duration'])\n",
    "                else: \n",
    "                    customer_rides['Fri'] += 1\n",
    "                    customer_durations['Fri'] += float(trip['duration'])\n",
    "    \n",
    "    subscriber_dur_avg = {'Sat' : 0, 'Sun' : 0, 'Mon' : 0, 'Tue' : 0, 'Wed' : 0, 'Thu' : 0, 'Fri' : 0}\n",
    "    customer_dur_avg = {'Sat' : 0, 'Sun' : 0, 'Mon' : 0, 'Tue' : 0, 'Wed' : 0, 'Thu' : 0, 'Fri' : 0}\n",
    "    for key,value in subscriber_durations.items():\n",
    "        subscriber_dur_avg[key] = value/subscriber_rides[key]\n",
    "        \n",
    "    for key,value in customer_durations.items():\n",
    "        customer_dur_avg[key] = value/customer_rides[key]        \n",
    "            \n",
    "                    \n",
    "    return (subscriber_rides, customer_rides, subscriber_dur_avg, customer_dur_avg)"
   ]
  },
  {
   "cell_type": "code",
   "execution_count": 1,
   "metadata": {},
   "outputs": [],
   "source": [
    "def dict_to_list(dic):\n",
    "    dictlist = []\n",
    "    for key, value in dic.items():\n",
    "        temp = [key,value]\n",
    "        dictlist.append(value)\n",
    "    return dictlist"
   ]
  },
  {
   "cell_type": "code",
   "execution_count": 75,
   "metadata": {},
   "outputs": [],
   "source": [
    "def plot_days_of_week_trips(subscriber, customer, city):\n",
    "    '''\n",
    "    Plotting bar chart of 'days_ridership_dur_by_user_type' function using two \n",
    "    categorical variables ('User Type' and 'day of week')\n",
    "    '''\n",
    "    Days=['Sat','Sun','Mon','Tue','Wed','Thu','Fri']\n",
    "    ypos = np.arange(len(Days))\n",
    "    plt.gcf().clear()\n",
    "    plt.xticks(ypos, Days)\n",
    "    plt.ylabel('Number of trips')\n",
    "    plt.title('Days of Week Trips Number\\n{}'.format(city))\n",
    "    sub_list = dict_to_list(subscriber)\n",
    "    cus_list = dict_to_list(customer)\n",
    "    plt.bar(ypos-0.2,sub_list, width=0.4, label='Subscriber', color = '#000099')\n",
    "    plt.bar(ypos+0.2,cus_list, width=0.4, label='Customer', color = 'red')\n",
    "    plt.legend()\n",
    "    plt.show()\n",
    "    return"
   ]
  },
  {
   "cell_type": "code",
   "execution_count": 76,
   "metadata": {},
   "outputs": [],
   "source": [
    "def plot_days_of_week_duration(subscriber, customer, city):\n",
    "    '''\n",
    "    Plotting bar chart of 'days_ridership_dur_by_user_type' function using two \n",
    "    categorical variables ('User Type' and 'day of week')\n",
    "    '''\n",
    "    Days=['Sat','Sun','Mon','Tue','Wed','Thu','Fri']\n",
    "    ypos = np.arange(len(Days))\n",
    "    plt.gcf().clear()\n",
    "    plt.xticks(ypos, Days)\n",
    "    plt.ylabel('Trips Duration (m)')\n",
    "    plt.title('Days of Week Trips Duration Avg\\n{}'.format(city))\n",
    "    sub_list = dict_to_list(subscriber)\n",
    "    cus_list = dict_to_list(customer)\n",
    "    plt.bar(ypos-0.2,sub_list, width=0.4, label='Subscriber', color = '#000099')\n",
    "    plt.bar(ypos+0.2,cus_list, width=0.4, label='Customer', color = 'red')\n",
    "    plt.legend()\n",
    "    plt.show()\n",
    "    return"
   ]
  },
  {
   "cell_type": "code",
   "execution_count": 77,
   "metadata": {},
   "outputs": [
    {
     "name": "stdout",
     "output_type": "stream",
     "text": [
      "\n",
      "City: Chicago\n"
     ]
    },
    {
     "data": {
      "image/png": "[encoded data removed]",
      "text/plain": [
       "<matplotlib.figure.Figure at 0x7f69be685a20>"
      ]
     },
     "metadata": {
      "needs_background": "light"
     },
     "output_type": "display_data"
    },
    {
     "data": {
      "image/png": "[encoded data removed]",
      "text/plain": [
       "<matplotlib.figure.Figure at 0x7f69c123cf98>"
      ]
     },
     "metadata": {
      "needs_background": "light"
     },
     "output_type": "display_data"
    },
    {
     "name": "stdout",
     "output_type": "stream",
     "text": [
      "\n",
      "City: NYC\n"
     ]
    },
    {
     "data": {
      "image/png": "[encoded data removed]",
      "text/plain": [
       "<matplotlib.figure.Figure at 0x7f69be685c88>"
      ]
     },
     "metadata": {
      "needs_background": "light"
     },
     "output_type": "display_data"
    },
    {
     "data": {
      "image/png": "[encoded data removed]",
      "text/plain": [
       "<matplotlib.figure.Figure at 0x7f69bed748d0>"
      ]
     },
     "metadata": {
      "needs_background": "light"
     },
     "output_type": "display_data"
    },
    {
     "name": "stdout",
     "output_type": "stream",
     "text": [
      "\n",
      "City: Washington\n"
     ]
    },
    {
     "data": {
      "image/png": "[encoded data removed]",
      "text/plain": [
       "<matplotlib.figure.Figure at 0x7f69c123c048>"
      ]
     },
     "metadata": {
      "needs_background": "light"
     },
     "output_type": "display_data"
    },
    {
     "data": {
      "image/png": "[encoded data removed]",
      "text/plain": [
       "<matplotlib.figure.Figure at 0x7f69be67b710>"
      ]
     },
     "metadata": {
      "needs_background": "light"
     },
     "output_type": "display_data"
    }
   ],
   "source": [
    "data_files = ['./data/Chicago-2016-Summary.csv',\n",
    "              './data/NYC-2016-Summary.csv',\n",
    "              './data/Washington-2016-Summary.csv',]\n",
    "for data_file in data_files:\n",
    "    city = data_file.split('-')[0].split('/')[-1]\n",
    "    print('\\nCity: {}'.format(city))\n",
    "    data = days_ridership_dur_by_user_type(data_file)\n",
    "    sub_trips = data[0]\n",
    "    cust_trips = data[1]\n",
    "    sub_dur = data[2]\n",
    "    cust_dur = data[3]\n",
    "    plot_days_of_week_trips(sub_trips, cust_trips, city)\n",
    "    plot_days_of_week_duration(sub_dur, cust_dur, city)"
   ]
  },
  {
   "cell_type": "markdown",
   "metadata": {},
   "source": [
    "# <a id='conclusions'></a>\n",
    "## Conclusions\n",
    "\n",
    "Congratulations on completing the project! This is only a sampling of the data analysis process: from generating questions, wrangling the data, and to exploring the data. Normally, at this point in the data analysis process, you might want to draw conclusions about the data by performing a statistical test or fitting the data to a model for making predictions. There are also a lot of potential analyses that could be performed on the data which are not possible with only the data provided. For example, detailed location data has not been investigated. Where are the most commonly used docks? What are the most common routes? As another example, weather has potential to have a large impact on daily ridership. How much is ridership impacted when there is rain or snow? Are subscribers or customers affected more by changes in weather?\n",
    "\n",
    "**Question 7**: Putting the bike share data aside, think of a topic or field of interest where you would like to be able to apply the techniques of data science. What would you like to be able to learn from your chosen subject?\n",
    "\n",
    "**Answer**: \n",
    "\n",
    "**I recently conducted a study on the gaps between expectations and perceptions as part of my MBA studies. My analysis was somewhat limited about the services in my library, but it showed conclusively the extent to which data science is capable to measure the clients satisfaction clearly. Data analysis techniques helped me to analyze the questionnaire and abstracting the results.**\n",
    "\n",
    "**I would like to delve into the data analysis to pursue it as a new field. It would be interesting to know where I would most likely find these jobs.**\n"
   ]
  },
  {
   "cell_type": "code",
   "execution_count": 78,
   "metadata": {},
   "outputs": [
    {
     "data": {
      "text/plain": [
       "0"
      ]
     },
     "execution_count": 78,
     "metadata": {},
     "output_type": "execute_result"
    }
   ],
   "source": [
    "from subprocess import call\n",
    "call(['python', '-m', 'nbconvert', 'Bike_Share_Analysis.ipynb'])"
   ]
  }
 ],
 "metadata": {
  "anaconda-cloud": {},
  "kernelspec": {
   "display_name": "Python 3",
   "language": "python",
   "name": "python3"
  },
  "language_info": {
   "codemirror_mode": {
    "name": "ipython",
    "version": 3
   },
   "file_extension": ".py",
   "mimetype": "text/x-python",
   "name": "python",
   "nbconvert_exporter": "python",
   "pygments_lexer": "ipython3",
   "version": "3.7.1"
  }
 },
 "nbformat": 4,
 "nbformat_minor": 1
}
